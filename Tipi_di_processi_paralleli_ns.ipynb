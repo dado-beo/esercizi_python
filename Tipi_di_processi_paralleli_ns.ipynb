{
  "nbformat": 4,
  "nbformat_minor": 0,
  "metadata": {
    "colab": {
      "provenance": [],
      "authorship_tag": "ABX9TyOQq7EFLOlKcanfPvU57W3B",
      "include_colab_link": true
    },
    "kernelspec": {
      "name": "python3",
      "display_name": "Python 3"
    },
    "language_info": {
      "name": "python"
    }
  },
  "cells": [
    {
      "cell_type": "markdown",
      "metadata": {
        "id": "view-in-github",
        "colab_type": "text"
      },
      "source": [
        "<a href=\"https://colab.research.google.com/github/dado-beo/esercizi_python/blob/main/Tipi_di_processi_paralleli_ns.ipynb\" target=\"_parent\"><img src=\"https://colab.research.google.com/assets/colab-badge.svg\" alt=\"Open In Colab\"/></a>"
      ]
    },
    {
      "cell_type": "markdown",
      "source": [
        "\n",
        "## 1) Processi Totalmente Ignari:\n",
        "\n",
        "In questo caso, i processi non sono consapevoli l'uno dell'altro\n",
        "e operano indipendentemente senza alcuna comunicazione diretta o scambio di informazioni.\n",
        "Esempio: Parallelismo di dati. Supponiamo di avere un'immagine divisa in pixel.\n",
        "Ogni processo si occupa di elaborare i dati in un determinato set di pixel senza\n",
        "avere alcuna consapevolezza degli altri processi che elaborano gli altri pixel."
      ],
      "metadata": {
        "id": "vfnc9_ST2zBm"
      }
    },
    {
      "cell_type": "code",
      "execution_count": null,
      "metadata": {
        "id": "oDgmRTP_2tnI"
      },
      "outputs": [],
      "source": [
        "from multiprocessing import Process\n",
        "\"\"\"\n",
        "multiprocessing è una libreria per la creazione, la comunicazione e la sincronizzazione\n",
        "tra processi nella programmazione parallela e concorrente\n",
        "Process è una classe per creare processi eseguendo una funzione (o metodo) specificata come target.\n",
        "\"\"\"\n",
        "\n",
        "def process_function(data):\n",
        "  result = data * 2\n",
        "  print(result)\n",
        "\n",
        "if __name__ == \"__main__\": # Verifica se il modulo è eseguito come script principale\n",
        "  data_list = [1, 2, 3, 4]\n",
        "  processes = []\n",
        "\n",
        "  for data in data_list:\n",
        "    p = Process(target = process_function, args = (data,)) # Crea un processo per eseguire process_function con data come argomento\n",
        "    processes.append(p)\n",
        "    p.start() # Avvia l'esecuzione del processo separato\n",
        "\n",
        "  for p in processes:\n",
        "    p.join() # Blocca il processo principale fino a quando il processo separato non termina"
      ]
    },
    {
      "cell_type": "markdown",
      "source": [
        "## 2) Processi Indirettamente a Conoscenza Uno dell'Altro:\n",
        "\n",
        "In questo caso, i processi potrebbero non conoscere direttamente gli altri,\n",
        "ma possono interagire attraverso uno scambio indiretto di informazioni,\n",
        "ad esempio, attraverso una struttura dati condivisa o un intermediario.\n",
        "Esempio: Una coda condivisa. I processi possono mettere dati in una coda condivisa\n",
        "e prelevarli successivamente. Anche se i processi non conoscono direttamente gli altri processi,\n",
        "condividono una struttura dati (la coda) per scambiare informazioni."
      ],
      "metadata": {
        "id": "xSeBfdEf4524"
      }
    },
    {
      "cell_type": "code",
      "source": [
        "\"\"\"\n",
        "Queue: classe che rappresenta una coda condivisa tra i processi.\n",
        "È utilizzata per consentire la comunicazione tra processi,\n",
        "consentendo loro di scambiarsi dati in modo sicuro.\n",
        "put(item): Aggiunge un elemento alla coda.\n",
        "get(): Rimuove e restituisce un elemento alla coda.\n",
        "empty(): Restituisce True se la coda è vuota, altrimenti restituisce False.\n",
        "full(): restituisce True se la coda è piena, altrimenti restituisce False.\n",
        "qsize(): Restituisce il numero di elementi presenti nella coda.\n",
        "close(): Chiude la coda.\n",
        "-- current_process: funzione che restituisce un oggetto Process\n",
        "che rappresenta il processo in esecuzione.\n",
        "\"\"\"\n",
        "\n",
        "def process_id():\n",
        "  print(f\"Server PID: {os.getpid()}, Process Name: {current_process().name}, Process PID: {current_process().pid}\")\n",
        "\n",
        "def process_function(data, result_queue):\n",
        "  process_id()\n",
        "  print(\"Elabora: \",data)\n",
        "  result = data * 2\n",
        "  result_queue.put(result)\n",
        "\n",
        "if __name__ == \"__main__\": # Verifica se il modulo è eseguito come script principale\n",
        "  data_list = [1, 2, 3, 4]\n",
        "  result_queue = Queue() # Coda per memorizzare i risultati\n",
        "  processes = []\n",
        "\n",
        "  for data in data_list:\n",
        "    p = Process(target = process_function, args = (data, result_queue)) # Crea un processo per eseguire process_function\n",
        "    processes.append(p)\n",
        "    p.start()\n",
        "\n",
        "  for p in processes:\n",
        "    p.join()\n",
        "\n",
        "  print(\"Il main stampa i risultati\")\n",
        "  while not result_queue.empty():\n",
        "    result = result_queue.get()\n",
        "    print(result)"
      ],
      "metadata": {
        "id": "lgFF3VOZ48sx"
      },
      "execution_count": null,
      "outputs": []
    },
    {
      "cell_type": "markdown",
      "source": [
        "## 3) Processi direttamente a conoscenza\n",
        "In questo caso, i processi sono consapevoli l'uno dell'altro e possono comunicare direttamente.\n",
        "Esempio: Comunicazione diretta. I processi comunicano utilizzando messaggi diretti\n",
        "o altri meccanismi di comunicazione.\n",
        "Ad esempio, uno scenario di scambio di dati tra server e client\n",
        "o tra processi all'interno di un'applicazione che utilizza canali di comunicazione diretti."
      ],
      "metadata": {
        "id": "oDtFkdYH8lhy"
      }
    },
    {
      "cell_type": "code",
      "source": [
        "import os # il modulo fornisce funzionalità per interagire con il sistema operativo\n",
        "from multiprocessing import Process, current_process, Pipe\n",
        "\n",
        "def process_id():\n",
        "  print(f\"Server PID: {os.getpid()}, Process Name: {current_process().name}, Process PID: {current_process().pid}\")\n",
        "\n",
        "def process_function(conn):\n",
        "  process_id()\n",
        "  print(\"Elaboro il dato ricevuto ed invio il risultato\")\n",
        "  data_recived = conn.recv()\n",
        "  result = data_recived * 2\n",
        "  conn.send(result)\n",
        "  conn.close()\n",
        "\n",
        "if __name__ == \"__main__\":\n",
        "  process_id()\n",
        "  print(\"Creo una connessione e un processo figlio\")\n",
        "  parent_conn, child_conn = Pipe()\n",
        "  data = 5\n",
        "  p = Process(target = process_function, args=(child_conn,))\n",
        "  p.start()\n",
        "  parent_conn.send(data)\n",
        "  result = parent_conn.recv()\n",
        "  p.join()\n",
        "  process_id()\n",
        "  print(\"Stampo il risultato ricevuto\")\n",
        "  print(result)"
      ],
      "metadata": {
        "id": "kF5kkLAh8orp"
      },
      "execution_count": null,
      "outputs": []
    }
  ]
}